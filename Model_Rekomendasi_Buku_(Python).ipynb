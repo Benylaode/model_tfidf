{
  "cells": [
    {
      "cell_type": "markdown",
      "metadata": {
        "id": "view-in-github",
        "colab_type": "text"
      },
      "source": [
        "<a href=\"https://colab.research.google.com/github/Benylaode/model_tfidf/blob/main/Model_Rekomendasi_Buku_(Python).ipynb\" target=\"_parent\"><img src=\"https://colab.research.google.com/assets/colab-badge.svg\" alt=\"Open In Colab\"/></a>"
      ]
    },
    {
      "cell_type": "code",
      "source": [
        "import pandas as pd\n",
        "from sklearn.feature_extraction.text import TfidfVectorizer\n",
        "from sklearn.metrics.pairwise import cosine_similarity\n",
        "import numpy as np"
      ],
      "outputs": [],
      "execution_count": 14,
      "metadata": {
        "id": "iabmVEwKwJcJ"
      }
    },
    {
      "cell_type": "code",
      "source": [
        "\n",
        "try:\n",
        "    df = pd.read_csv('Data_Books.csv')\n",
        "    print(\"Dataset berhasil dimuat.\")\n",
        "except FileNotFoundError:\n",
        "    print(\"File 'Data_Books.csv' tidak ditemukan. Menggunakan data dummy untuk demonstrasi.\")\n",
        "    data = {\n",
        "        'title': [\n",
        "            'The Lord of the Rings', 'The Hobbit', 'Pride and Prejudice',\n",
        "            'Sense and Sensibility', 'To Kill a Mockingbird', '1984',\n",
        "            'Animal Farm', 'The Great Gatsby', 'Moby Dick', 'War and Peace'\n",
        "        ],\n",
        "        'authors': [\n",
        "            'J.R.R. Tolkien', 'J.R.R. Tolkien', 'Jane Austen',\n",
        "            'Jane Austen', 'Harper Lee', 'George Orwell',\n",
        "            'George Orwell', 'F. Scott Fitzgerald', 'Herman Melville', 'Leo Tolstoy'\n",
        "        ],\n",
        "        'categories': [\n",
        "            'Fantasy', 'Fantasy', 'Romance',\n",
        "            'Romance', 'Classics', 'Dystopian',\n",
        "            'Satire', 'Classics', 'Adventure', 'Historical Fiction'\n",
        "        ]\n",
        "    }\n",
        "    df = pd.DataFrame(data)\n"
      ],
      "metadata": {
        "colab": {
          "base_uri": "https://localhost:8080/"
        },
        "id": "HtRvxEzEwTQQ",
        "outputId": "efc86c59-b241-40cc-9588-571bd6fe749f"
      },
      "execution_count": 15,
      "outputs": [
        {
          "output_type": "stream",
          "name": "stdout",
          "text": [
            "File 'Data_Books.csv' tidak ditemukan. Menggunakan data dummy untuk demonstrasi.\n"
          ]
        }
      ]
    },
    {
      "cell_type": "code",
      "source": [
        "df.fillna('', inplace=True)\n",
        "\n",
        "df['combined_features'] = df['title'] + ' ' + df['authors'] + ' ' + df['categories']\n",
        "print(\"\\nFitur teks berhasil digabungkan.\")\n",
        "print(df[['title', 'authors', 'categories', 'combined_features']].head())\n"
      ],
      "metadata": {
        "colab": {
          "base_uri": "https://localhost:8080/"
        },
        "id": "flOc5W5uwWXU",
        "outputId": "82220db2-2ab7-415f-b6c2-679b87ee392c"
      },
      "execution_count": 16,
      "outputs": [
        {
          "output_type": "stream",
          "name": "stdout",
          "text": [
            "\n",
            "Fitur teks berhasil digabungkan.\n",
            "                   title         authors categories  \\\n",
            "0  The Lord of the Rings  J.R.R. Tolkien    Fantasy   \n",
            "1             The Hobbit  J.R.R. Tolkien    Fantasy   \n",
            "2    Pride and Prejudice     Jane Austen    Romance   \n",
            "3  Sense and Sensibility     Jane Austen    Romance   \n",
            "4  To Kill a Mockingbird      Harper Lee   Classics   \n",
            "\n",
            "                              combined_features  \n",
            "0  The Lord of the Rings J.R.R. Tolkien Fantasy  \n",
            "1             The Hobbit J.R.R. Tolkien Fantasy  \n",
            "2       Pride and Prejudice Jane Austen Romance  \n",
            "3     Sense and Sensibility Jane Austen Romance  \n",
            "4     To Kill a Mockingbird Harper Lee Classics  \n"
          ]
        }
      ]
    },
    {
      "cell_type": "code",
      "source": [
        "\n",
        "tfidf_vectorizer = TfidfVectorizer(stop_words='english', max_features=5000)\n",
        "\n",
        "tfidf_matrix = tfidf_vectorizer.fit_transform(df['combined_features'])\n",
        "print(f\"\\nUkuran matriks TF-IDF: {tfidf_matrix.shape}\")\n",
        "print(\"TF-IDF Vectorizer berhasil diterapkan.\")"
      ],
      "metadata": {
        "colab": {
          "base_uri": "https://localhost:8080/"
        },
        "id": "rvuGTuucwYvf",
        "outputId": "d8c6f130-82ad-486d-efc0-0e740e347706"
      },
      "execution_count": 17,
      "outputs": [
        {
          "output_type": "stream",
          "name": "stdout",
          "text": [
            "\n",
            "Ukuran matriks TF-IDF: (10, 39)\n",
            "TF-IDF Vectorizer berhasil diterapkan.\n"
          ]
        }
      ]
    },
    {
      "cell_type": "code",
      "source": [
        "\n",
        "cosine_sim = cosine_similarity(tfidf_matrix, tfidf_matrix)\n",
        "print(f\"\\nUkuran matriks Cosine Similarity: {cosine_sim.shape}\")\n",
        "print(\"Cosine Similarity berhasil dihitung.\")"
      ],
      "metadata": {
        "colab": {
          "base_uri": "https://localhost:8080/"
        },
        "id": "QGHQQJ0vwa-P",
        "outputId": "8e2d9531-4127-477f-91d7-7e784d0dbfb2"
      },
      "execution_count": 18,
      "outputs": [
        {
          "output_type": "stream",
          "name": "stdout",
          "text": [
            "\n",
            "Ukuran matriks Cosine Similarity: (10, 10)\n",
            "Cosine Similarity berhasil dihitung.\n"
          ]
        }
      ]
    },
    {
      "cell_type": "code",
      "source": [
        "class BookRecommender:\n",
        "    def __init__(self, dataframe, cosine_sim_matrix, indices):\n",
        "        self.df = dataframe\n",
        "        self.cosine_sim = cosine_sim_matrix\n",
        "        self.indices = indices\n",
        "\n",
        "    def recommend_books(self, title, num_recommendations=5):\n",
        "        if title not in self.indices:\n",
        "            print(f\"Buku dengan judul '{title}' tidak ditemukan dalam dataset.\")\n",
        "            return []\n",
        "\n",
        "        idx = self.indices[title]\n",
        "\n",
        "        sim_scores = list(enumerate(self.cosine_sim[idx]))\n",
        "\n",
        "        sim_scores = sorted(sim_scores, key=lambda x: x[1], reverse=True)\n",
        "\n",
        "        sim_scores = sim_scores[1:num_recommendations+1]\n",
        "\n",
        "        book_indices = [i[0] for i in sim_scores]\n",
        "\n",
        "        recommended_titles = self.df['title'].iloc[book_indices].tolist()\n",
        "        return recommended_titles\n",
        "\n"
      ],
      "metadata": {
        "id": "mZfQYQWmwg23"
      },
      "execution_count": 19,
      "outputs": []
    },
    {
      "cell_type": "code",
      "source": [
        "indices = pd.Series(df.index, index=df['title']).drop_duplicates()\n",
        "\n",
        "recommender = BookRecommender(df, cosine_sim, indices)\n",
        "print(\"\\nObjek BookRecommender berhasil diinisialisasi.\")\n",
        "\n",
        "book_title_to_recommend = 'The Hobbit'\n",
        "print(f\"\\nMencari rekomendasi untuk buku: '{book_title_to_recommend}'\")\n",
        "recommendations = recommender.recommend_books(book_title_to_recommend, num_recommendations=5)\n",
        "\n",
        "if recommendations:\n",
        "    print(f\"Rekomendasi buku untuk '{book_title_to_recommend}':\")\n",
        "    for i, book in enumerate(recommendations):\n",
        "        print(f\"{i+1}. {book}\")\n",
        "else:\n",
        "    print(\"Tidak ada rekomendasi yang ditemukan.\")\n",
        "\n",
        "book_title_to_recommend_not_found = 'Buku Aneh'\n",
        "print(f\"\\nMencari rekomendasi untuk buku: '{book_title_to_recommend_not_found}'\")\n",
        "recommendations_not_found = recommender.recommend_books(book_title_to_recommend_not_found)"
      ],
      "metadata": {
        "colab": {
          "base_uri": "https://localhost:8080/"
        },
        "id": "DVXRR8ogwtEK",
        "outputId": "625e0673-50be-464c-e742-44f5c41a6b5f"
      },
      "execution_count": 20,
      "outputs": [
        {
          "output_type": "stream",
          "name": "stdout",
          "text": [
            "\n",
            "Objek BookRecommender berhasil diinisialisasi.\n",
            "\n",
            "Mencari rekomendasi untuk buku: 'The Hobbit'\n",
            "Rekomendasi buku untuk 'The Hobbit':\n",
            "1. The Lord of the Rings\n",
            "2. Pride and Prejudice\n",
            "3. Sense and Sensibility\n",
            "4. To Kill a Mockingbird\n",
            "5. 1984\n",
            "\n",
            "Mencari rekomendasi untuk buku: 'Buku Aneh'\n",
            "Buku dengan judul 'Buku Aneh' tidak ditemukan dalam dataset.\n"
          ]
        }
      ]
    }
  ],
  "metadata": {
    "colab": {
      "provenance": [],
      "include_colab_link": true
    },
    "kernelspec": {
      "display_name": "Python 3",
      "name": "python3"
    }
  },
  "nbformat": 4,
  "nbformat_minor": 0
}