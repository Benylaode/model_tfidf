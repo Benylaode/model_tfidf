{
  "cells": [
    {
      "cell_type": "markdown",
      "metadata": {
        "id": "view-in-github",
        "colab_type": "text"
      },
      "source": [
        "<a href=\"https://colab.research.google.com/github/Benylaode/model_tfidf/blob/main/Model_Rekomendasi_Buku_(Python).ipynb\" target=\"_parent\"><img src=\"https://colab.research.google.com/assets/colab-badge.svg\" alt=\"Open In Colab\"/></a>"
      ]
    },
    {
      "cell_type": "code",
      "execution_count": 4,
      "metadata": {
        "id": "iabmVEwKwJcJ"
      },
      "outputs": [],
      "source": [
        "import pandas as pd\n",
        "from sklearn.feature_extraction.text import TfidfVectorizer\n",
        "from sklearn.metrics.pairwise import cosine_similarity\n",
        "import numpy as np\n",
        "from datasets import load_dataset\n",
        "import pickle\n"
      ]
    },
    {
      "cell_type": "code",
      "execution_count": 5,
      "metadata": {
        "colab": {
          "base_uri": "https://localhost:8080/"
        },
        "id": "HtRvxEzEwTQQ",
        "outputId": "12ce1002-c698-47cb-b3eb-8a327fce2aa2"
      },
      "outputs": [
        {
          "output_type": "stream",
          "name": "stdout",
          "text": [
            "<class 'pandas.core.frame.DataFrame'>\n"
          ]
        }
      ],
      "source": [
        "\n",
        "try:\n",
        "    df = pd.read_csv(\"books.csv\")\n",
        "    print(type(df))\n",
        "\n",
        "except FileNotFoundError:\n",
        "    print(\"File 'Data_Books.csv' tidak ditemukan. Menggunakan data dummy untuk demonstrasi.\")\n",
        "    data = {\n",
        "        'title': [\n",
        "            'The Lord of the Rings', 'The Hobbit', 'Pride and Prejudice',\n",
        "            'Sense and Sensibility', 'To Kill a Mockingbird', '1984',\n",
        "            'Animal Farm', 'The Great Gatsby', 'Moby Dick', 'War and Peace'\n",
        "        ],\n",
        "        'authors': [\n",
        "            'J.R.R. Tolkien', 'J.R.R. Tolkien', 'Jane Austen',\n",
        "            'Jane Austen', 'Harper Lee', 'George Orwell',\n",
        "            'George Orwell', 'F. Scott Fitzgerald', 'Herman Melville', 'Leo Tolstoy'\n",
        "        ],\n",
        "        'categories': [\n",
        "            'Fantasy', 'Fantasy', 'Romance',\n",
        "            'Romance', 'Classics', 'Dystopian',\n",
        "            'Satire', 'Classics', 'Adventure', 'Historical Fiction'\n",
        "        ]\n",
        "    }\n",
        "    df = pd.DataFrame(data)"
      ]
    },
    {
      "cell_type": "code",
      "source": [
        "df.head()"
      ],
      "metadata": {
        "colab": {
          "base_uri": "https://localhost:8080/",
          "height": 591
        },
        "id": "aPrD2JiLrwoi",
        "outputId": "ba7f1b75-53bd-4555-eceb-7a0567c2fe9e"
      },
      "execution_count": 6,
      "outputs": [
        {
          "output_type": "execute_result",
          "data": {
            "text/plain": [
              "          isbn13      isbn10           title subtitle  \\\n",
              "0  9780002005883  0002005883          Gilead      NaN   \n",
              "1  9780002261982  0002261987    Spider's Web  A Novel   \n",
              "2  9780006163831  0006163831    The One Tree      NaN   \n",
              "3  9780006178736  0006178731  Rage of angels      NaN   \n",
              "4  9780006280897  0006280897  The Four Loves      NaN   \n",
              "\n",
              "                           authors                     categories  \\\n",
              "0               Marilynne Robinson                        Fiction   \n",
              "1  Charles Osborne;Agatha Christie  Detective and mystery stories   \n",
              "2             Stephen R. Donaldson               American fiction   \n",
              "3                   Sidney Sheldon                        Fiction   \n",
              "4              Clive Staples Lewis                 Christian life   \n",
              "\n",
              "                                           thumbnail  \\\n",
              "0  http://books.google.com/books/content?id=KQZCP...   \n",
              "1  http://books.google.com/books/content?id=gA5GP...   \n",
              "2  http://books.google.com/books/content?id=OmQaw...   \n",
              "3  http://books.google.com/books/content?id=FKo2T...   \n",
              "4  http://books.google.com/books/content?id=XhQ5X...   \n",
              "\n",
              "                                         description  published_year  \\\n",
              "0  A NOVEL THAT READERS and critics have been eag...          2004.0   \n",
              "1  A new 'Christie for Christmas' -- a full-lengt...          2000.0   \n",
              "2  Volume Two of Stephen Donaldson's acclaimed se...          1982.0   \n",
              "3  A memorable, mesmerizing heroine Jennifer -- b...          1993.0   \n",
              "4  Lewis' work on the nature of love divides love...          2002.0   \n",
              "\n",
              "   average_rating  num_pages  ratings_count  \n",
              "0            3.85      247.0          361.0  \n",
              "1            3.83      241.0         5164.0  \n",
              "2            3.97      479.0          172.0  \n",
              "3            3.93      512.0        29532.0  \n",
              "4            4.15      170.0        33684.0  "
            ],
            "text/html": [
              "\n",
              "  <div id=\"df-afd60138-411c-4a0b-b3a3-c3bc165aad76\" class=\"colab-df-container\">\n",
              "    <div>\n",
              "<style scoped>\n",
              "    .dataframe tbody tr th:only-of-type {\n",
              "        vertical-align: middle;\n",
              "    }\n",
              "\n",
              "    .dataframe tbody tr th {\n",
              "        vertical-align: top;\n",
              "    }\n",
              "\n",
              "    .dataframe thead th {\n",
              "        text-align: right;\n",
              "    }\n",
              "</style>\n",
              "<table border=\"1\" class=\"dataframe\">\n",
              "  <thead>\n",
              "    <tr style=\"text-align: right;\">\n",
              "      <th></th>\n",
              "      <th>isbn13</th>\n",
              "      <th>isbn10</th>\n",
              "      <th>title</th>\n",
              "      <th>subtitle</th>\n",
              "      <th>authors</th>\n",
              "      <th>categories</th>\n",
              "      <th>thumbnail</th>\n",
              "      <th>description</th>\n",
              "      <th>published_year</th>\n",
              "      <th>average_rating</th>\n",
              "      <th>num_pages</th>\n",
              "      <th>ratings_count</th>\n",
              "    </tr>\n",
              "  </thead>\n",
              "  <tbody>\n",
              "    <tr>\n",
              "      <th>0</th>\n",
              "      <td>9780002005883</td>\n",
              "      <td>0002005883</td>\n",
              "      <td>Gilead</td>\n",
              "      <td>NaN</td>\n",
              "      <td>Marilynne Robinson</td>\n",
              "      <td>Fiction</td>\n",
              "      <td>http://books.google.com/books/content?id=KQZCP...</td>\n",
              "      <td>A NOVEL THAT READERS and critics have been eag...</td>\n",
              "      <td>2004.0</td>\n",
              "      <td>3.85</td>\n",
              "      <td>247.0</td>\n",
              "      <td>361.0</td>\n",
              "    </tr>\n",
              "    <tr>\n",
              "      <th>1</th>\n",
              "      <td>9780002261982</td>\n",
              "      <td>0002261987</td>\n",
              "      <td>Spider's Web</td>\n",
              "      <td>A Novel</td>\n",
              "      <td>Charles Osborne;Agatha Christie</td>\n",
              "      <td>Detective and mystery stories</td>\n",
              "      <td>http://books.google.com/books/content?id=gA5GP...</td>\n",
              "      <td>A new 'Christie for Christmas' -- a full-lengt...</td>\n",
              "      <td>2000.0</td>\n",
              "      <td>3.83</td>\n",
              "      <td>241.0</td>\n",
              "      <td>5164.0</td>\n",
              "    </tr>\n",
              "    <tr>\n",
              "      <th>2</th>\n",
              "      <td>9780006163831</td>\n",
              "      <td>0006163831</td>\n",
              "      <td>The One Tree</td>\n",
              "      <td>NaN</td>\n",
              "      <td>Stephen R. Donaldson</td>\n",
              "      <td>American fiction</td>\n",
              "      <td>http://books.google.com/books/content?id=OmQaw...</td>\n",
              "      <td>Volume Two of Stephen Donaldson's acclaimed se...</td>\n",
              "      <td>1982.0</td>\n",
              "      <td>3.97</td>\n",
              "      <td>479.0</td>\n",
              "      <td>172.0</td>\n",
              "    </tr>\n",
              "    <tr>\n",
              "      <th>3</th>\n",
              "      <td>9780006178736</td>\n",
              "      <td>0006178731</td>\n",
              "      <td>Rage of angels</td>\n",
              "      <td>NaN</td>\n",
              "      <td>Sidney Sheldon</td>\n",
              "      <td>Fiction</td>\n",
              "      <td>http://books.google.com/books/content?id=FKo2T...</td>\n",
              "      <td>A memorable, mesmerizing heroine Jennifer -- b...</td>\n",
              "      <td>1993.0</td>\n",
              "      <td>3.93</td>\n",
              "      <td>512.0</td>\n",
              "      <td>29532.0</td>\n",
              "    </tr>\n",
              "    <tr>\n",
              "      <th>4</th>\n",
              "      <td>9780006280897</td>\n",
              "      <td>0006280897</td>\n",
              "      <td>The Four Loves</td>\n",
              "      <td>NaN</td>\n",
              "      <td>Clive Staples Lewis</td>\n",
              "      <td>Christian life</td>\n",
              "      <td>http://books.google.com/books/content?id=XhQ5X...</td>\n",
              "      <td>Lewis' work on the nature of love divides love...</td>\n",
              "      <td>2002.0</td>\n",
              "      <td>4.15</td>\n",
              "      <td>170.0</td>\n",
              "      <td>33684.0</td>\n",
              "    </tr>\n",
              "  </tbody>\n",
              "</table>\n",
              "</div>\n",
              "    <div class=\"colab-df-buttons\">\n",
              "\n",
              "  <div class=\"colab-df-container\">\n",
              "    <button class=\"colab-df-convert\" onclick=\"convertToInteractive('df-afd60138-411c-4a0b-b3a3-c3bc165aad76')\"\n",
              "            title=\"Convert this dataframe to an interactive table.\"\n",
              "            style=\"display:none;\">\n",
              "\n",
              "  <svg xmlns=\"http://www.w3.org/2000/svg\" height=\"24px\" viewBox=\"0 -960 960 960\">\n",
              "    <path d=\"M120-120v-720h720v720H120Zm60-500h600v-160H180v160Zm220 220h160v-160H400v160Zm0 220h160v-160H400v160ZM180-400h160v-160H180v160Zm440 0h160v-160H620v160ZM180-180h160v-160H180v160Zm440 0h160v-160H620v160Z\"/>\n",
              "  </svg>\n",
              "    </button>\n",
              "\n",
              "  <style>\n",
              "    .colab-df-container {\n",
              "      display:flex;\n",
              "      gap: 12px;\n",
              "    }\n",
              "\n",
              "    .colab-df-convert {\n",
              "      background-color: #E8F0FE;\n",
              "      border: none;\n",
              "      border-radius: 50%;\n",
              "      cursor: pointer;\n",
              "      display: none;\n",
              "      fill: #1967D2;\n",
              "      height: 32px;\n",
              "      padding: 0 0 0 0;\n",
              "      width: 32px;\n",
              "    }\n",
              "\n",
              "    .colab-df-convert:hover {\n",
              "      background-color: #E2EBFA;\n",
              "      box-shadow: 0px 1px 2px rgba(60, 64, 67, 0.3), 0px 1px 3px 1px rgba(60, 64, 67, 0.15);\n",
              "      fill: #174EA6;\n",
              "    }\n",
              "\n",
              "    .colab-df-buttons div {\n",
              "      margin-bottom: 4px;\n",
              "    }\n",
              "\n",
              "    [theme=dark] .colab-df-convert {\n",
              "      background-color: #3B4455;\n",
              "      fill: #D2E3FC;\n",
              "    }\n",
              "\n",
              "    [theme=dark] .colab-df-convert:hover {\n",
              "      background-color: #434B5C;\n",
              "      box-shadow: 0px 1px 3px 1px rgba(0, 0, 0, 0.15);\n",
              "      filter: drop-shadow(0px 1px 2px rgba(0, 0, 0, 0.3));\n",
              "      fill: #FFFFFF;\n",
              "    }\n",
              "  </style>\n",
              "\n",
              "    <script>\n",
              "      const buttonEl =\n",
              "        document.querySelector('#df-afd60138-411c-4a0b-b3a3-c3bc165aad76 button.colab-df-convert');\n",
              "      buttonEl.style.display =\n",
              "        google.colab.kernel.accessAllowed ? 'block' : 'none';\n",
              "\n",
              "      async function convertToInteractive(key) {\n",
              "        const element = document.querySelector('#df-afd60138-411c-4a0b-b3a3-c3bc165aad76');\n",
              "        const dataTable =\n",
              "          await google.colab.kernel.invokeFunction('convertToInteractive',\n",
              "                                                    [key], {});\n",
              "        if (!dataTable) return;\n",
              "\n",
              "        const docLinkHtml = 'Like what you see? Visit the ' +\n",
              "          '<a target=\"_blank\" href=https://colab.research.google.com/notebooks/data_table.ipynb>data table notebook</a>'\n",
              "          + ' to learn more about interactive tables.';\n",
              "        element.innerHTML = '';\n",
              "        dataTable['output_type'] = 'display_data';\n",
              "        await google.colab.output.renderOutput(dataTable, element);\n",
              "        const docLink = document.createElement('div');\n",
              "        docLink.innerHTML = docLinkHtml;\n",
              "        element.appendChild(docLink);\n",
              "      }\n",
              "    </script>\n",
              "  </div>\n",
              "\n",
              "\n",
              "    <div id=\"df-35f0288b-6f7f-43c5-a663-a0617c4bc5ce\">\n",
              "      <button class=\"colab-df-quickchart\" onclick=\"quickchart('df-35f0288b-6f7f-43c5-a663-a0617c4bc5ce')\"\n",
              "                title=\"Suggest charts\"\n",
              "                style=\"display:none;\">\n",
              "\n",
              "<svg xmlns=\"http://www.w3.org/2000/svg\" height=\"24px\"viewBox=\"0 0 24 24\"\n",
              "     width=\"24px\">\n",
              "    <g>\n",
              "        <path d=\"M19 3H5c-1.1 0-2 .9-2 2v14c0 1.1.9 2 2 2h14c1.1 0 2-.9 2-2V5c0-1.1-.9-2-2-2zM9 17H7v-7h2v7zm4 0h-2V7h2v10zm4 0h-2v-4h2v4z\"/>\n",
              "    </g>\n",
              "</svg>\n",
              "      </button>\n",
              "\n",
              "<style>\n",
              "  .colab-df-quickchart {\n",
              "      --bg-color: #E8F0FE;\n",
              "      --fill-color: #1967D2;\n",
              "      --hover-bg-color: #E2EBFA;\n",
              "      --hover-fill-color: #174EA6;\n",
              "      --disabled-fill-color: #AAA;\n",
              "      --disabled-bg-color: #DDD;\n",
              "  }\n",
              "\n",
              "  [theme=dark] .colab-df-quickchart {\n",
              "      --bg-color: #3B4455;\n",
              "      --fill-color: #D2E3FC;\n",
              "      --hover-bg-color: #434B5C;\n",
              "      --hover-fill-color: #FFFFFF;\n",
              "      --disabled-bg-color: #3B4455;\n",
              "      --disabled-fill-color: #666;\n",
              "  }\n",
              "\n",
              "  .colab-df-quickchart {\n",
              "    background-color: var(--bg-color);\n",
              "    border: none;\n",
              "    border-radius: 50%;\n",
              "    cursor: pointer;\n",
              "    display: none;\n",
              "    fill: var(--fill-color);\n",
              "    height: 32px;\n",
              "    padding: 0;\n",
              "    width: 32px;\n",
              "  }\n",
              "\n",
              "  .colab-df-quickchart:hover {\n",
              "    background-color: var(--hover-bg-color);\n",
              "    box-shadow: 0 1px 2px rgba(60, 64, 67, 0.3), 0 1px 3px 1px rgba(60, 64, 67, 0.15);\n",
              "    fill: var(--button-hover-fill-color);\n",
              "  }\n",
              "\n",
              "  .colab-df-quickchart-complete:disabled,\n",
              "  .colab-df-quickchart-complete:disabled:hover {\n",
              "    background-color: var(--disabled-bg-color);\n",
              "    fill: var(--disabled-fill-color);\n",
              "    box-shadow: none;\n",
              "  }\n",
              "\n",
              "  .colab-df-spinner {\n",
              "    border: 2px solid var(--fill-color);\n",
              "    border-color: transparent;\n",
              "    border-bottom-color: var(--fill-color);\n",
              "    animation:\n",
              "      spin 1s steps(1) infinite;\n",
              "  }\n",
              "\n",
              "  @keyframes spin {\n",
              "    0% {\n",
              "      border-color: transparent;\n",
              "      border-bottom-color: var(--fill-color);\n",
              "      border-left-color: var(--fill-color);\n",
              "    }\n",
              "    20% {\n",
              "      border-color: transparent;\n",
              "      border-left-color: var(--fill-color);\n",
              "      border-top-color: var(--fill-color);\n",
              "    }\n",
              "    30% {\n",
              "      border-color: transparent;\n",
              "      border-left-color: var(--fill-color);\n",
              "      border-top-color: var(--fill-color);\n",
              "      border-right-color: var(--fill-color);\n",
              "    }\n",
              "    40% {\n",
              "      border-color: transparent;\n",
              "      border-right-color: var(--fill-color);\n",
              "      border-top-color: var(--fill-color);\n",
              "    }\n",
              "    60% {\n",
              "      border-color: transparent;\n",
              "      border-right-color: var(--fill-color);\n",
              "    }\n",
              "    80% {\n",
              "      border-color: transparent;\n",
              "      border-right-color: var(--fill-color);\n",
              "      border-bottom-color: var(--fill-color);\n",
              "    }\n",
              "    90% {\n",
              "      border-color: transparent;\n",
              "      border-bottom-color: var(--fill-color);\n",
              "    }\n",
              "  }\n",
              "</style>\n",
              "\n",
              "      <script>\n",
              "        async function quickchart(key) {\n",
              "          const quickchartButtonEl =\n",
              "            document.querySelector('#' + key + ' button');\n",
              "          quickchartButtonEl.disabled = true;  // To prevent multiple clicks.\n",
              "          quickchartButtonEl.classList.add('colab-df-spinner');\n",
              "          try {\n",
              "            const charts = await google.colab.kernel.invokeFunction(\n",
              "                'suggestCharts', [key], {});\n",
              "          } catch (error) {\n",
              "            console.error('Error during call to suggestCharts:', error);\n",
              "          }\n",
              "          quickchartButtonEl.classList.remove('colab-df-spinner');\n",
              "          quickchartButtonEl.classList.add('colab-df-quickchart-complete');\n",
              "        }\n",
              "        (() => {\n",
              "          let quickchartButtonEl =\n",
              "            document.querySelector('#df-35f0288b-6f7f-43c5-a663-a0617c4bc5ce button');\n",
              "          quickchartButtonEl.style.display =\n",
              "            google.colab.kernel.accessAllowed ? 'block' : 'none';\n",
              "        })();\n",
              "      </script>\n",
              "    </div>\n",
              "\n",
              "    </div>\n",
              "  </div>\n"
            ],
            "application/vnd.google.colaboratory.intrinsic+json": {
              "type": "dataframe",
              "variable_name": "df",
              "summary": "{\n  \"name\": \"df\",\n  \"rows\": 6810,\n  \"fields\": [\n    {\n      \"column\": \"isbn13\",\n      \"properties\": {\n        \"dtype\": \"number\",\n        \"std\": 606891056,\n        \"min\": 9780002005883,\n        \"max\": 9789042003408,\n        \"num_unique_values\": 6810,\n        \"samples\": [\n          9780312994815,\n          9780671823498,\n          9780375725036\n        ],\n        \"semantic_type\": \"\",\n        \"description\": \"\"\n      }\n    },\n    {\n      \"column\": \"isbn10\",\n      \"properties\": {\n        \"dtype\": \"string\",\n        \"num_unique_values\": 6810,\n        \"samples\": [\n          \"0312994818\",\n          \"0671823493\",\n          \"0375725032\"\n        ],\n        \"semantic_type\": \"\",\n        \"description\": \"\"\n      }\n    },\n    {\n      \"column\": \"title\",\n      \"properties\": {\n        \"dtype\": \"string\",\n        \"num_unique_values\": 6398,\n        \"samples\": [\n          \"Rebekah\",\n          \"How to be a Perfect Stranger\",\n          \"Euripides, 3\"\n        ],\n        \"semantic_type\": \"\",\n        \"description\": \"\"\n      }\n    },\n    {\n      \"column\": \"subtitle\",\n      \"properties\": {\n        \"dtype\": \"category\",\n        \"num_unique_values\": 2009,\n        \"samples\": [\n          \"C.S. Lewis, Madeleine L'Engle, J.R. Tolkien, George MacDonald, G.K. Chesterton, Charles Williams, Dante Alighieri, John Bunyan, Walter Wangerin, Robert Siegel, and Hannah Hurnard\",\n          \"A Philosophical Translation\",\n          \"A Story of Race and Inheritance\"\n        ],\n        \"semantic_type\": \"\",\n        \"description\": \"\"\n      }\n    },\n    {\n      \"column\": \"authors\",\n      \"properties\": {\n        \"dtype\": \"string\",\n        \"num_unique_values\": 3780,\n        \"samples\": [\n          \"Daisetz Teitaro Suzuki;Erich Fromm;Richard De Martino\",\n          \"Roberta Gellis\",\n          \"Toni Morrison\"\n        ],\n        \"semantic_type\": \"\",\n        \"description\": \"\"\n      }\n    },\n    {\n      \"column\": \"categories\",\n      \"properties\": {\n        \"dtype\": \"category\",\n        \"num_unique_values\": 567,\n        \"samples\": [\n          \"Mars (Planet)\",\n          \"Assassins\",\n          \"United States\"\n        ],\n        \"semantic_type\": \"\",\n        \"description\": \"\"\n      }\n    },\n    {\n      \"column\": \"thumbnail\",\n      \"properties\": {\n        \"dtype\": \"string\",\n        \"num_unique_values\": 6481,\n        \"samples\": [\n          \"http://books.google.com/books/content?id=5cVKKLSC788C&printsec=frontcover&img=1&zoom=1&edge=curl&source=gbs_api\",\n          \"http://books.google.com/books/content?id=5o70W8CR6vMC&printsec=frontcover&img=1&zoom=1&source=gbs_api\",\n          \"http://books.google.com/books/content?id=M2JQxGf2Ex8C&printsec=frontcover&img=1&zoom=1&source=gbs_api\"\n        ],\n        \"semantic_type\": \"\",\n        \"description\": \"\"\n      }\n    },\n    {\n      \"column\": \"description\",\n      \"properties\": {\n        \"dtype\": \"string\",\n        \"num_unique_values\": 6474,\n        \"samples\": [\n          \"When sixteen-year-old Beka becomes \\\"Puppy\\\" to a pair of \\\"Dogs,\\\" as the Provost's Guards are called, she uses her police training, natural abilities, and a touch of magic to help them solve the case of a murdered baby in Tortall's Lower City.\",\n          \"The controversial memoir of a top British spy which finally reveals what really went on behind the scenes of the Falklands War For five years before the Falklands War, Hugh Bicheno was one of the top British spies in Argentina. As such, he gathered hard, corroborated intelligence on Argentine intentions over the Falklands - which the British establishment then chose to ignore. The reasons behind this British decision, and its disastrous and inevitable consequences in the South Atlantic, are the main story of this book. There were three main players in the war, each of them trying to overcome their own cultural baggage. The Argentines were riddled with guilt: after years of fighting a morally repugnant campaign against its own people, the Argentine military saw a war for the Malvinas islands as a perfect opportunity to win back their self-respect. The hands of the Americans were also bloody from the likewise dirty wars they had sponsored and abetted in Central America. For Britain it was simply the last straw after decades of humiliation.\",\n          \"Detective Sergeant Lloyd Hopkins of the LAPD, fueled by a desire to protect innocence, confronts a murderer who is driven by the same forces when he investigates a series of murders of young women in the Los Angeles area. Reprint. 15,000 first printing.\"\n        ],\n        \"semantic_type\": \"\",\n        \"description\": \"\"\n      }\n    },\n    {\n      \"column\": \"published_year\",\n      \"properties\": {\n        \"dtype\": \"number\",\n        \"std\": 10.48425716008255,\n        \"min\": 1853.0,\n        \"max\": 2019.0,\n        \"num_unique_values\": 94,\n        \"samples\": [\n          1980.0,\n          1966.0,\n          1975.0\n        ],\n        \"semantic_type\": \"\",\n        \"description\": \"\"\n      }\n    },\n    {\n      \"column\": \"average_rating\",\n      \"properties\": {\n        \"dtype\": \"number\",\n        \"std\": 0.33135160616178455,\n        \"min\": 0.0,\n        \"max\": 5.0,\n        \"num_unique_values\": 200,\n        \"samples\": [\n          4.5,\n          4.23,\n          3.56\n        ],\n        \"semantic_type\": \"\",\n        \"description\": \"\"\n      }\n    },\n    {\n      \"column\": \"num_pages\",\n      \"properties\": {\n        \"dtype\": \"number\",\n        \"std\": 242.37678264542132,\n        \"min\": 0.0,\n        \"max\": 3342.0,\n        \"num_unique_values\": 915,\n        \"samples\": [\n          154.0,\n          3020.0,\n          138.0\n        ],\n        \"semantic_type\": \"\",\n        \"description\": \"\"\n      }\n    },\n    {\n      \"column\": \"ratings_count\",\n      \"properties\": {\n        \"dtype\": \"number\",\n        \"std\": 137620.6786468925,\n        \"min\": 0.0,\n        \"max\": 5629932.0,\n        \"num_unique_values\": 3881,\n        \"samples\": [\n          23456.0,\n          213.0,\n          554.0\n        ],\n        \"semantic_type\": \"\",\n        \"description\": \"\"\n      }\n    }\n  ]\n}"
            }
          },
          "metadata": {},
          "execution_count": 6
        }
      ]
    },
    {
      "cell_type": "code",
      "source": [
        "df.info()"
      ],
      "metadata": {
        "colab": {
          "base_uri": "https://localhost:8080/"
        },
        "id": "-4pWiUWxr5ko",
        "outputId": "00abe77e-79ba-4b39-bf57-ceb7d1669165"
      },
      "execution_count": 7,
      "outputs": [
        {
          "output_type": "stream",
          "name": "stdout",
          "text": [
            "<class 'pandas.core.frame.DataFrame'>\n",
            "RangeIndex: 6810 entries, 0 to 6809\n",
            "Data columns (total 12 columns):\n",
            " #   Column          Non-Null Count  Dtype  \n",
            "---  ------          --------------  -----  \n",
            " 0   isbn13          6810 non-null   int64  \n",
            " 1   isbn10          6810 non-null   object \n",
            " 2   title           6810 non-null   object \n",
            " 3   subtitle        2381 non-null   object \n",
            " 4   authors         6738 non-null   object \n",
            " 5   categories      6711 non-null   object \n",
            " 6   thumbnail       6481 non-null   object \n",
            " 7   description     6548 non-null   object \n",
            " 8   published_year  6804 non-null   float64\n",
            " 9   average_rating  6767 non-null   float64\n",
            " 10  num_pages       6767 non-null   float64\n",
            " 11  ratings_count   6767 non-null   float64\n",
            "dtypes: float64(4), int64(1), object(7)\n",
            "memory usage: 638.6+ KB\n"
          ]
        }
      ]
    },
    {
      "cell_type": "code",
      "source": [
        "df.drop_duplicates(inplace=True)"
      ],
      "metadata": {
        "id": "jyA1WjibsEEL"
      },
      "execution_count": 9,
      "outputs": []
    },
    {
      "cell_type": "code",
      "source": [
        "\n",
        "\n",
        "print(df.duplicated().sum())"
      ],
      "metadata": {
        "colab": {
          "base_uri": "https://localhost:8080/"
        },
        "id": "C9YEb_l-sIvy",
        "outputId": "982612fc-9abc-460f-ce2e-5ba5785e3819"
      },
      "execution_count": 10,
      "outputs": [
        {
          "output_type": "stream",
          "name": "stdout",
          "text": [
            "0\n"
          ]
        }
      ]
    },
    {
      "cell_type": "code",
      "source": [
        "\n",
        "\n",
        "print(df.isnull().sum())"
      ],
      "metadata": {
        "colab": {
          "base_uri": "https://localhost:8080/"
        },
        "id": "gcjHqOAYsWny",
        "outputId": "a88c2a11-546d-4852-c381-255a36ebf033"
      },
      "execution_count": 11,
      "outputs": [
        {
          "output_type": "stream",
          "name": "stdout",
          "text": [
            "isbn13               0\n",
            "isbn10               0\n",
            "title                0\n",
            "subtitle          4429\n",
            "authors             72\n",
            "categories          99\n",
            "thumbnail          329\n",
            "description        262\n",
            "published_year       6\n",
            "average_rating      43\n",
            "num_pages           43\n",
            "ratings_count       43\n",
            "dtype: int64\n"
          ]
        }
      ]
    },
    {
      "cell_type": "code",
      "source": [
        "numeric_cols = ['published_year', 'average_rating', 'num_pages', 'ratings_count']\n",
        "for col in numeric_cols:\n",
        "    if col in df.columns:\n",
        "        df[col].fillna(df[col].mean(), inplace=True)\n",
        "\n",
        "if 'subtitle' in df.columns:\n",
        "    df['subtitle'].fillna('', inplace=True)\n",
        "\n",
        "\n",
        "if 'authors' in df.columns:\n",
        "    df['authors'].fillna('Unknown Author', inplace=True)\n",
        "\n",
        "\n",
        "if 'categories' in df.columns:\n",
        "    df['categories'].fillna('Unknown Category', inplace=True)\n",
        "\n",
        "\n",
        "if 'thumbnail' in df.columns:\n",
        "    df['thumbnail'].fillna('', inplace=True)\n",
        "\n",
        "if 'description' in df.columns:\n",
        "    df['description'].fillna('', inplace=True)\n",
        "\n",
        "\n",
        "print(\"\\nSetelah mengisi missing values:\")\n",
        "print(df.isnull().sum())\n"
      ],
      "metadata": {
        "colab": {
          "base_uri": "https://localhost:8080/"
        },
        "id": "0tjrKc1Qsopv",
        "outputId": "694bcf25-17a2-4711-e460-6cbf86292e3a"
      },
      "execution_count": 12,
      "outputs": [
        {
          "output_type": "stream",
          "name": "stdout",
          "text": [
            "\n",
            "Setelah mengisi missing values:\n",
            "isbn13            0\n",
            "isbn10            0\n",
            "title             0\n",
            "subtitle          0\n",
            "authors           0\n",
            "categories        0\n",
            "thumbnail         0\n",
            "description       0\n",
            "published_year    0\n",
            "average_rating    0\n",
            "num_pages         0\n",
            "ratings_count     0\n",
            "dtype: int64\n"
          ]
        },
        {
          "output_type": "stream",
          "name": "stderr",
          "text": [
            "<ipython-input-12-c65f3a378a39>:4: FutureWarning: A value is trying to be set on a copy of a DataFrame or Series through chained assignment using an inplace method.\n",
            "The behavior will change in pandas 3.0. This inplace method will never work because the intermediate object on which we are setting values always behaves as a copy.\n",
            "\n",
            "For example, when doing 'df[col].method(value, inplace=True)', try using 'df.method({col: value}, inplace=True)' or df[col] = df[col].method(value) instead, to perform the operation inplace on the original object.\n",
            "\n",
            "\n",
            "  df[col].fillna(df[col].mean(), inplace=True)\n",
            "<ipython-input-12-c65f3a378a39>:7: FutureWarning: A value is trying to be set on a copy of a DataFrame or Series through chained assignment using an inplace method.\n",
            "The behavior will change in pandas 3.0. This inplace method will never work because the intermediate object on which we are setting values always behaves as a copy.\n",
            "\n",
            "For example, when doing 'df[col].method(value, inplace=True)', try using 'df.method({col: value}, inplace=True)' or df[col] = df[col].method(value) instead, to perform the operation inplace on the original object.\n",
            "\n",
            "\n",
            "  df['subtitle'].fillna('', inplace=True)\n",
            "<ipython-input-12-c65f3a378a39>:11: FutureWarning: A value is trying to be set on a copy of a DataFrame or Series through chained assignment using an inplace method.\n",
            "The behavior will change in pandas 3.0. This inplace method will never work because the intermediate object on which we are setting values always behaves as a copy.\n",
            "\n",
            "For example, when doing 'df[col].method(value, inplace=True)', try using 'df.method({col: value}, inplace=True)' or df[col] = df[col].method(value) instead, to perform the operation inplace on the original object.\n",
            "\n",
            "\n",
            "  df['authors'].fillna('Unknown Author', inplace=True)\n",
            "<ipython-input-12-c65f3a378a39>:15: FutureWarning: A value is trying to be set on a copy of a DataFrame or Series through chained assignment using an inplace method.\n",
            "The behavior will change in pandas 3.0. This inplace method will never work because the intermediate object on which we are setting values always behaves as a copy.\n",
            "\n",
            "For example, when doing 'df[col].method(value, inplace=True)', try using 'df.method({col: value}, inplace=True)' or df[col] = df[col].method(value) instead, to perform the operation inplace on the original object.\n",
            "\n",
            "\n",
            "  df['categories'].fillna('Unknown Category', inplace=True)\n",
            "<ipython-input-12-c65f3a378a39>:19: FutureWarning: A value is trying to be set on a copy of a DataFrame or Series through chained assignment using an inplace method.\n",
            "The behavior will change in pandas 3.0. This inplace method will never work because the intermediate object on which we are setting values always behaves as a copy.\n",
            "\n",
            "For example, when doing 'df[col].method(value, inplace=True)', try using 'df.method({col: value}, inplace=True)' or df[col] = df[col].method(value) instead, to perform the operation inplace on the original object.\n",
            "\n",
            "\n",
            "  df['thumbnail'].fillna('', inplace=True)\n",
            "<ipython-input-12-c65f3a378a39>:22: FutureWarning: A value is trying to be set on a copy of a DataFrame or Series through chained assignment using an inplace method.\n",
            "The behavior will change in pandas 3.0. This inplace method will never work because the intermediate object on which we are setting values always behaves as a copy.\n",
            "\n",
            "For example, when doing 'df[col].method(value, inplace=True)', try using 'df.method({col: value}, inplace=True)' or df[col] = df[col].method(value) instead, to perform the operation inplace on the original object.\n",
            "\n",
            "\n",
            "  df['description'].fillna('', inplace=True)\n"
          ]
        }
      ]
    },
    {
      "cell_type": "code",
      "source": [
        "df.info()"
      ],
      "metadata": {
        "colab": {
          "base_uri": "https://localhost:8080/"
        },
        "id": "WVzf37VuP93O",
        "outputId": "aab4b4aa-74a4-4c71-89b2-c53dc550e4e5"
      },
      "execution_count": 13,
      "outputs": [
        {
          "output_type": "stream",
          "name": "stdout",
          "text": [
            "<class 'pandas.core.frame.DataFrame'>\n",
            "RangeIndex: 6810 entries, 0 to 6809\n",
            "Data columns (total 12 columns):\n",
            " #   Column          Non-Null Count  Dtype  \n",
            "---  ------          --------------  -----  \n",
            " 0   isbn13          6810 non-null   int64  \n",
            " 1   isbn10          6810 non-null   object \n",
            " 2   title           6810 non-null   object \n",
            " 3   subtitle        6810 non-null   object \n",
            " 4   authors         6810 non-null   object \n",
            " 5   categories      6810 non-null   object \n",
            " 6   thumbnail       6810 non-null   object \n",
            " 7   description     6810 non-null   object \n",
            " 8   published_year  6810 non-null   float64\n",
            " 9   average_rating  6810 non-null   float64\n",
            " 10  num_pages       6810 non-null   float64\n",
            " 11  ratings_count   6810 non-null   float64\n",
            "dtypes: float64(4), int64(1), object(7)\n",
            "memory usage: 638.6+ KB\n"
          ]
        }
      ]
    },
    {
      "cell_type": "code",
      "execution_count": 14,
      "metadata": {
        "id": "flOc5W5uwWXU",
        "colab": {
          "base_uri": "https://localhost:8080/"
        },
        "outputId": "a7892f37-d26d-471c-aaad-9e241e699011"
      },
      "outputs": [
        {
          "output_type": "stream",
          "name": "stdout",
          "text": [
            "\n",
            "Fitur teks berhasil digabungkan.\n",
            "            title                          authors  published_year  num_pages\n",
            "0          Gilead               Marilynne Robinson          2004.0      247.0\n",
            "1    Spider's Web  Charles Osborne;Agatha Christie          2000.0      241.0\n",
            "2    The One Tree             Stephen R. Donaldson          1982.0      479.0\n",
            "3  Rage of angels                   Sidney Sheldon          1993.0      512.0\n",
            "4  The Four Loves              Clive Staples Lewis          2002.0      170.0\n"
          ]
        }
      ],
      "source": [
        "df.fillna('', inplace=True)\n",
        "\n",
        "df['combined_features'] = (\n",
        "    df['isbn13'].astype(str) + ' ' +\n",
        "    df['isbn10'].astype(str) + ' ' +\n",
        "    df['title'].astype(str) + ' ' +\n",
        "    df['subtitle'].astype(str) + ' ' +\n",
        "    df['authors'].astype(str) + ' ' +\n",
        "    df['categories'].astype(str) + ' ' +\n",
        "    df['thumbnail'].astype(str) + ' ' +\n",
        "    df['description'].astype(str) + ' ' +\n",
        "    df['published_year'].astype(str) + ' ' +\n",
        "    df['average_rating'].astype(str) + ' ' +\n",
        "    df['num_pages'].astype(str) + ' ' +\n",
        "    df['ratings_count'].astype(str)\n",
        ")\n",
        "\n",
        "print(\"\\nFitur teks berhasil digabungkan.\")\n",
        "print(df[['title', 'authors', 'published_year', 'num_pages']].head())\n"
      ]
    },
    {
      "cell_type": "code",
      "execution_count": 15,
      "metadata": {
        "id": "rvuGTuucwYvf",
        "colab": {
          "base_uri": "https://localhost:8080/"
        },
        "outputId": "d2e18251-a404-4c9d-aa9e-2dc944c2d2f8"
      },
      "outputs": [
        {
          "output_type": "stream",
          "name": "stdout",
          "text": [
            "\n",
            "Ukuran matriks TF-IDF: (6810, 5000)\n",
            "TF-IDF Vectorizer berhasil diterapkan.\n"
          ]
        }
      ],
      "source": [
        "\n",
        "tfidf_vectorizer = TfidfVectorizer(stop_words='english', max_features=5000)\n",
        "\n",
        "tfidf_matrix = tfidf_vectorizer.fit_transform(df['combined_features'])\n",
        "print(f\"\\nUkuran matriks TF-IDF: {tfidf_matrix.shape}\")\n",
        "print(\"TF-IDF Vectorizer berhasil diterapkan.\")"
      ]
    },
    {
      "cell_type": "code",
      "execution_count": 16,
      "metadata": {
        "id": "QGHQQJ0vwa-P",
        "colab": {
          "base_uri": "https://localhost:8080/"
        },
        "outputId": "30b121d5-67f3-40ca-c728-642470528381"
      },
      "outputs": [
        {
          "output_type": "stream",
          "name": "stdout",
          "text": [
            "\n",
            "Ukuran matriks Cosine Similarity: (6810, 6810)\n",
            "Cosine Similarity berhasil dihitung.\n"
          ]
        }
      ],
      "source": [
        "\n",
        "cosine_sim = cosine_similarity(tfidf_matrix, tfidf_matrix)\n",
        "print(f\"\\nUkuran matriks Cosine Similarity: {cosine_sim.shape}\")\n",
        "print(\"Cosine Similarity berhasil dihitung.\")"
      ]
    },
    {
      "cell_type": "code",
      "execution_count": 17,
      "metadata": {
        "id": "mZfQYQWmwg23"
      },
      "outputs": [],
      "source": [
        "class BookRecommender:\n",
        "    def __init__(self, dataframe, cosine_sim_matrix, indices):\n",
        "        self.df = dataframe\n",
        "        self.cosine_sim = cosine_sim_matrix\n",
        "        self.indices = indices\n",
        "\n",
        "    def recommend_books(self, title, num_recommendations=5):\n",
        "        if title not in self.indices:\n",
        "            print(f\"Buku dengan judul '{title}' tidak ditemukan dalam dataset.\")\n",
        "            return []\n",
        "\n",
        "        idx = self.indices[title]\n",
        "\n",
        "        sim_scores = list(enumerate(self.cosine_sim[idx]))\n",
        "\n",
        "        sim_scores = sorted(sim_scores, key=lambda x: x[1], reverse=True)\n",
        "\n",
        "        sim_scores = sim_scores[1:num_recommendations+1]\n",
        "\n",
        "        book_indices = [i[0] for i in sim_scores]\n",
        "\n",
        "        recommended_titles = self.df['title'].iloc[book_indices].tolist()\n",
        "        return recommended_titles\n",
        "\n"
      ]
    },
    {
      "cell_type": "code",
      "execution_count": 19,
      "metadata": {
        "id": "DVXRR8ogwtEK",
        "colab": {
          "base_uri": "https://localhost:8080/"
        },
        "outputId": "c36b43a8-aeb9-4c0e-bb63-b34175fae8f9"
      },
      "outputs": [
        {
          "output_type": "stream",
          "name": "stdout",
          "text": [
            "\n",
            "Objek BookRecommender berhasil diinisialisasi.\n",
            "\n",
            "Mencari rekomendasi untuk buku: 'The Four Loves'\n",
            "Rekomendasi buku untuk 'The Four Loves':\n",
            "1. C.S. Lewis\n",
            "2. The Art of Loving\n",
            "3. The Problem of Pain\n",
            "4. The Complete C. S. Lewis Signature Classics\n",
            "5. Tolkien and C.S. Lewis\n",
            "\n",
            "Mencari rekomendasi untuk buku: 'The Four Loves'\n"
          ]
        }
      ],
      "source": [
        "indices = pd.Series(df.index, index=df['title']).drop_duplicates()\n",
        "\n",
        "recommender = BookRecommender(df, cosine_sim, indices)\n",
        "print(\"\\nObjek BookRecommender berhasil diinisialisasi.\")\n",
        "\n",
        "book_title_to_recommend = 'The Four Loves'\n",
        "print(f\"\\nMencari rekomendasi untuk buku: '{book_title_to_recommend}'\")\n",
        "recommendations = recommender.recommend_books(book_title_to_recommend, num_recommendations=5)\n",
        "\n",
        "if recommendations:\n",
        "    print(f\"Rekomendasi buku untuk '{book_title_to_recommend}':\")\n",
        "    for i, book in enumerate(recommendations):\n",
        "        print(f\"{i+1}. {book}\")\n",
        "else:\n",
        "    print(\"Tidak ada rekomendasi yang ditemukan.\")\n",
        "\n",
        "book_title_to_recommend_not_found = 'The Four Loves'\n",
        "print(f\"\\nMencari rekomendasi untuk buku: '{book_title_to_recommend_not_found}'\")\n",
        "recommendations_not_found = recommender.recommend_books(book_title_to_recommend_not_found)"
      ]
    },
    {
      "cell_type": "code",
      "execution_count": null,
      "metadata": {
        "id": "nK-GKccQaxif",
        "colab": {
          "base_uri": "https://localhost:8080/"
        },
        "outputId": "3b65eff1-741e-42bd-ec59-6ed5f678f34d"
      },
      "outputs": [
        {
          "output_type": "stream",
          "name": "stdout",
          "text": [
            "Model TF-IDF, cosine similarity, dan indices berhasil disimpan.\n"
          ]
        }
      ],
      "source": [
        "with open('tfidf_model.pkl', 'wb') as f:\n",
        "    pickle.dump(tfidf_vectorizer, f)\n",
        "\n",
        "with open('cosine_sim.pkl', 'wb') as f:\n",
        "    pickle.dump(cosine_sim, f)\n",
        "\n",
        "with open('indices.pkl', 'wb') as f:\n",
        "    pickle.dump(indices, f)\n",
        "\n",
        "print(\"Model TF-IDF, cosine similarity, dan indices berhasil disimpan.\")"
      ]
    }
  ],
  "metadata": {
    "colab": {
      "provenance": [],
      "include_colab_link": true
    },
    "kernelspec": {
      "display_name": "Python 3",
      "name": "python3"
    }
  },
  "nbformat": 4,
  "nbformat_minor": 0
}